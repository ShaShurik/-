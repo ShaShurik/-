{
 "cells": [
  {
   "cell_type": "markdown",
   "metadata": {},
   "source": [
    "# Лабораторная работа 3"
   ]
  },
  {
   "cell_type": "markdown",
   "metadata": {},
   "source": [
    "## Описание модели\n",
    "\n",
    "Данные содержат 1473 записей и 10 атрибутов. Набор данных является подмножеством Национального обследования распространенности контрацептивов в Индонезии 1987 года. https://archive.ics.uci.edu/ml/datasets/Contraceptive+Method+Choice"
   ]
  },
  {
   "cell_type": "markdown",
   "metadata": {},
   "source": [
    "### Attributes \n",
    "\n",
    "- Wife's age (numerical) \n",
    "- Wife's education (categorical) 1=low, 2, 3, 4=high \n",
    "- Husband's education (categorical) 1=low, 2, 3, 4=high \n",
    "- Number of children ever born (numerical) \n",
    "- Wife's religion (binary) 0=Non-Islam, 1=Islam \n",
    "- Wife's now working? (binary) 0=Yes, 1=No\n",
    "- Husband's occupation (categorical) 1, 2, 3, 4 \n",
    "- Standard-of-living index (categorical) 1=low, 2, 3, 4=high \n",
    "- Media exposure (binary) 0=Good, 1=Not good \n",
    "- Contraceptive method used (class attribute) 1=No-use, 2=Long-term, 3=Short-term (будет изменено: 0=No-use, 1=use)"
   ]
  },
  {
   "cell_type": "code",
   "execution_count": 1,
   "metadata": {},
   "outputs": [],
   "source": [
    "import pandas as pd\n",
    "import numpy as np\n",
    "from sklearn.preprocessing import LabelEncoder\n",
    "from sklearn.preprocessing import StandardScaler\n",
    "from sklearn.model_selection import train_test_split\n",
    "from sklearn import tree\n",
    "from sklearn.ensemble import RandomForestClassifier\n",
    "from sklearn.neighbors import KNeighborsClassifier\n",
    "from sklearn.metrics import accuracy_score, precision_score, recall_score\n",
    "from sklearn.metrics import confusion_matrix\n",
    "import matplotlib.pyplot as plt\n",
    "%matplotlib inline\n",
    "import seaborn as sns\n",
    "\n",
    "features = pd.read_csv('cmc.csv')"
   ]
  },
  {
   "cell_type": "code",
   "execution_count": 2,
   "metadata": {},
   "outputs": [
    {
     "data": {
      "text/html": [
       "<div>\n",
       "<style scoped>\n",
       "    .dataframe tbody tr th:only-of-type {\n",
       "        vertical-align: middle;\n",
       "    }\n",
       "\n",
       "    .dataframe tbody tr th {\n",
       "        vertical-align: top;\n",
       "    }\n",
       "\n",
       "    .dataframe thead th {\n",
       "        text-align: right;\n",
       "    }\n",
       "</style>\n",
       "<table border=\"1\" class=\"dataframe\">\n",
       "  <thead>\n",
       "    <tr style=\"text-align: right;\">\n",
       "      <th></th>\n",
       "      <th>Wife_s age</th>\n",
       "      <th>Wife_s education</th>\n",
       "      <th>Husband_s education</th>\n",
       "      <th>Number of children ever born</th>\n",
       "      <th>Wife_s religion</th>\n",
       "      <th>Wife_s now working?</th>\n",
       "      <th>Husband_s occupation</th>\n",
       "      <th>Standard-of-living index</th>\n",
       "      <th>Media exposure (binary)</th>\n",
       "      <th>Contraceptive method used</th>\n",
       "    </tr>\n",
       "  </thead>\n",
       "  <tbody>\n",
       "    <tr>\n",
       "      <th>0</th>\n",
       "      <td>45</td>\n",
       "      <td>1</td>\n",
       "      <td>3</td>\n",
       "      <td>10</td>\n",
       "      <td>1</td>\n",
       "      <td>1</td>\n",
       "      <td>3</td>\n",
       "      <td>4</td>\n",
       "      <td>0</td>\n",
       "      <td>0</td>\n",
       "    </tr>\n",
       "    <tr>\n",
       "      <th>1</th>\n",
       "      <td>43</td>\n",
       "      <td>2</td>\n",
       "      <td>3</td>\n",
       "      <td>7</td>\n",
       "      <td>1</td>\n",
       "      <td>1</td>\n",
       "      <td>3</td>\n",
       "      <td>4</td>\n",
       "      <td>0</td>\n",
       "      <td>0</td>\n",
       "    </tr>\n",
       "    <tr>\n",
       "      <th>2</th>\n",
       "      <td>42</td>\n",
       "      <td>3</td>\n",
       "      <td>2</td>\n",
       "      <td>9</td>\n",
       "      <td>1</td>\n",
       "      <td>1</td>\n",
       "      <td>3</td>\n",
       "      <td>3</td>\n",
       "      <td>0</td>\n",
       "      <td>0</td>\n",
       "    </tr>\n",
       "    <tr>\n",
       "      <th>3</th>\n",
       "      <td>36</td>\n",
       "      <td>3</td>\n",
       "      <td>3</td>\n",
       "      <td>8</td>\n",
       "      <td>1</td>\n",
       "      <td>1</td>\n",
       "      <td>3</td>\n",
       "      <td>2</td>\n",
       "      <td>0</td>\n",
       "      <td>0</td>\n",
       "    </tr>\n",
       "    <tr>\n",
       "      <th>4</th>\n",
       "      <td>19</td>\n",
       "      <td>4</td>\n",
       "      <td>4</td>\n",
       "      <td>0</td>\n",
       "      <td>1</td>\n",
       "      <td>1</td>\n",
       "      <td>3</td>\n",
       "      <td>3</td>\n",
       "      <td>0</td>\n",
       "      <td>0</td>\n",
       "    </tr>\n",
       "  </tbody>\n",
       "</table>\n",
       "</div>"
      ],
      "text/plain": [
       "   Wife_s age  Wife_s education  Husband_s education  \\\n",
       "0          45                 1                    3   \n",
       "1          43                 2                    3   \n",
       "2          42                 3                    2   \n",
       "3          36                 3                    3   \n",
       "4          19                 4                    4   \n",
       "\n",
       "   Number of children ever born  Wife_s religion  Wife_s now working?  \\\n",
       "0                            10                1                    1   \n",
       "1                             7                1                    1   \n",
       "2                             9                1                    1   \n",
       "3                             8                1                    1   \n",
       "4                             0                1                    1   \n",
       "\n",
       "   Husband_s occupation  Standard-of-living index  Media exposure (binary)  \\\n",
       "0                     3                         4                        0   \n",
       "1                     3                         4                        0   \n",
       "2                     3                         3                        0   \n",
       "3                     3                         2                        0   \n",
       "4                     3                         3                        0   \n",
       "\n",
       "   Contraceptive method used  \n",
       "0                          0  \n",
       "1                          0  \n",
       "2                          0  \n",
       "3                          0  \n",
       "4                          0  "
      ]
     },
     "execution_count": 2,
     "metadata": {},
     "output_type": "execute_result"
    }
   ],
   "source": [
    "features.head(5)"
   ]
  },
  {
   "cell_type": "code",
   "execution_count": 3,
   "metadata": {},
   "outputs": [
    {
     "data": {
      "text/html": [
       "<div>\n",
       "<style scoped>\n",
       "    .dataframe tbody tr th:only-of-type {\n",
       "        vertical-align: middle;\n",
       "    }\n",
       "\n",
       "    .dataframe tbody tr th {\n",
       "        vertical-align: top;\n",
       "    }\n",
       "\n",
       "    .dataframe thead th {\n",
       "        text-align: right;\n",
       "    }\n",
       "</style>\n",
       "<table border=\"1\" class=\"dataframe\">\n",
       "  <thead>\n",
       "    <tr style=\"text-align: right;\">\n",
       "      <th></th>\n",
       "      <th>Пропуски</th>\n",
       "      <th>Мин.</th>\n",
       "      <th>Макс.</th>\n",
       "      <th>Средн.</th>\n",
       "      <th>Ст. откл.</th>\n",
       "    </tr>\n",
       "  </thead>\n",
       "  <tbody>\n",
       "    <tr>\n",
       "      <th>Wife_s age</th>\n",
       "      <td>0</td>\n",
       "      <td>16</td>\n",
       "      <td>49</td>\n",
       "      <td>32.544158</td>\n",
       "      <td>8.227027</td>\n",
       "    </tr>\n",
       "    <tr>\n",
       "      <th>Wife_s education</th>\n",
       "      <td>0</td>\n",
       "      <td>1</td>\n",
       "      <td>4</td>\n",
       "      <td>2.959239</td>\n",
       "      <td>1.015031</td>\n",
       "    </tr>\n",
       "    <tr>\n",
       "      <th>Husband_s education</th>\n",
       "      <td>0</td>\n",
       "      <td>1</td>\n",
       "      <td>4</td>\n",
       "      <td>3.430027</td>\n",
       "      <td>0.816549</td>\n",
       "    </tr>\n",
       "    <tr>\n",
       "      <th>Number of children ever born</th>\n",
       "      <td>0</td>\n",
       "      <td>0</td>\n",
       "      <td>16</td>\n",
       "      <td>3.261549</td>\n",
       "      <td>2.359341</td>\n",
       "    </tr>\n",
       "    <tr>\n",
       "      <th>Wife_s religion</th>\n",
       "      <td>0</td>\n",
       "      <td>0</td>\n",
       "      <td>1</td>\n",
       "      <td>0.850543</td>\n",
       "      <td>0.356659</td>\n",
       "    </tr>\n",
       "    <tr>\n",
       "      <th>Wife_s now working?</th>\n",
       "      <td>0</td>\n",
       "      <td>0</td>\n",
       "      <td>1</td>\n",
       "      <td>0.749321</td>\n",
       "      <td>0.433552</td>\n",
       "    </tr>\n",
       "    <tr>\n",
       "      <th>Husband_s occupation</th>\n",
       "      <td>0</td>\n",
       "      <td>1</td>\n",
       "      <td>4</td>\n",
       "      <td>2.137908</td>\n",
       "      <td>0.865144</td>\n",
       "    </tr>\n",
       "    <tr>\n",
       "      <th>Standard-of-living index</th>\n",
       "      <td>0</td>\n",
       "      <td>1</td>\n",
       "      <td>4</td>\n",
       "      <td>3.133832</td>\n",
       "      <td>0.976486</td>\n",
       "    </tr>\n",
       "    <tr>\n",
       "      <th>Media exposure (binary)</th>\n",
       "      <td>0</td>\n",
       "      <td>0</td>\n",
       "      <td>1</td>\n",
       "      <td>0.074049</td>\n",
       "      <td>0.261939</td>\n",
       "    </tr>\n",
       "    <tr>\n",
       "      <th>Contraceptive method used</th>\n",
       "      <td>0</td>\n",
       "      <td>0</td>\n",
       "      <td>1</td>\n",
       "      <td>0.573370</td>\n",
       "      <td>0.494756</td>\n",
       "    </tr>\n",
       "  </tbody>\n",
       "</table>\n",
       "</div>"
      ],
      "text/plain": [
       "                              Пропуски  Мин.  Макс.     Средн.  Ст. откл.\n",
       "Wife_s age                           0    16     49  32.544158   8.227027\n",
       "Wife_s education                     0     1      4   2.959239   1.015031\n",
       "Husband_s education                  0     1      4   3.430027   0.816549\n",
       "Number of children ever born         0     0     16   3.261549   2.359341\n",
       "Wife_s religion                      0     0      1   0.850543   0.356659\n",
       "Wife_s now working?                  0     0      1   0.749321   0.433552\n",
       "Husband_s occupation                 0     1      4   2.137908   0.865144\n",
       "Standard-of-living index             0     1      4   3.133832   0.976486\n",
       "Media exposure (binary)              0     0      1   0.074049   0.261939\n",
       "Contraceptive method used            0     0      1   0.573370   0.494756"
      ]
     },
     "execution_count": 3,
     "metadata": {},
     "output_type": "execute_result"
    }
   ],
   "source": [
    "min_ = features.min()\n",
    "max_ = features.max()\n",
    "mean_ = features.mean()\n",
    "std_ = features.std()\n",
    "nulls = features.isnull().sum()\n",
    "stats = pd.DataFrame({'Пропуски': nulls, 'Мин.': min_, 'Макс.': max_, 'Средн.': mean_, 'Ст. откл.': std_})\n",
    "stats"
   ]
  },
  {
   "cell_type": "code",
   "execution_count": 4,
   "metadata": {},
   "outputs": [],
   "source": [
    "X = features.drop('Contraceptive method used', axis=1)\n",
    "y = features['Contraceptive method used']"
   ]
  },
  {
   "cell_type": "code",
   "execution_count": 5,
   "metadata": {},
   "outputs": [],
   "source": [
    "X_train, X_test, y_train, y_test = train_test_split(X, y, test_size=0.33, random_state=66)"
   ]
  },
  {
   "cell_type": "code",
   "execution_count": 6,
   "metadata": {},
   "outputs": [],
   "source": [
    "def plot_confusion_matrix_sns(cm):\n",
    "    fig, ax = plt.subplots(1, 1, figsize=(6, 6))\n",
    "    sns.heatmap(cm, annot=True, ax=ax, cmap='GnBu', fmt='g')\n",
    "    ax.set_ylabel('True', fontsize=12)\n",
    "    ax.set_xlabel('Predicted', fontsize=12)\n",
    "    \n",
    "def print_prediction_assessment(predictions, y):\n",
    "    test_acc = accuracy_score(y, predictions)\n",
    "    test_prec = precision_score(y, predictions)\n",
    "    test_recall = recall_score(y, predictions)\n",
    "    f1 = (2 * test_prec * test_recall) / (test_prec + test_recall)\n",
    "    cm = confusion_matrix(y, predictions)\n",
    "    print('acc =', test_acc, '| prec =', test_prec, '| rec =', test_recall, '| f1 =', f1)\n",
    "    plot_confusion_matrix_sns(cm)"
   ]
  },
  {
   "cell_type": "code",
   "execution_count": 7,
   "metadata": {},
   "outputs": [
    {
     "name": "stdout",
     "output_type": "stream",
     "text": [
      "acc = 0.6522633744855967 | prec = 0.6301969365426696 | rec = 1.0 | f1 = 0.7731543624161074\n"
     ]
    },
    {
     "data": {
      "image/png": "[encoded data removed]",
      "text/plain": [
       "<Figure size 432x432 with 2 Axes>"
      ]
     },
     "metadata": {},
     "output_type": "display_data"
    }
   ],
   "source": [
    "dt = tree.DecisionTreeClassifier(criterion='gini', max_depth=1, random_state=12345)\n",
    "\n",
    "dt = dt.fit(X_train, y_train)\n",
    "\n",
    "predictions = dt.predict(X_test)\n",
    "print_prediction_assessment(predictions, y_test)"
   ]
  },
  {
   "cell_type": "code",
   "execution_count": 8,
   "metadata": {
    "scrolled": false
   },
   "outputs": [
    {
     "name": "stdout",
     "output_type": "stream",
     "text": [
      "acc = 0.6090534979423868 | prec = 0.6689655172413793 | rec = 0.6736111111111112 | f1 = 0.671280276816609\n"
     ]
    },
    {
     "data": {
      "image/png": "[encoded data removed]",
      "text/plain": [
       "<Figure size 432x432 with 2 Axes>"
      ]
     },
     "metadata": {},
     "output_type": "display_data"
    }
   ],
   "source": [
    "rf = RandomForestClassifier(n_estimators=3, max_depth=None, random_state=100)\n",
    "rf = rf.fit(X_train, y_train)\n",
    "\n",
    "predictions = rf.predict(X_test)\n",
    "print_prediction_assessment(predictions, y_test)"
   ]
  },
  {
   "cell_type": "code",
   "execution_count": 9,
   "metadata": {},
   "outputs": [],
   "source": [
    "ss = StandardScaler()\n",
    "X_train = ss.fit_transform(X_train)\n",
    "X_test = ss.transform(X_test)"
   ]
  },
  {
   "cell_type": "code",
   "execution_count": 10,
   "metadata": {},
   "outputs": [
    {
     "name": "stdout",
     "output_type": "stream",
     "text": [
      "acc = 0.6378600823045267 | prec = 0.6879194630872483 | rec = 0.7118055555555556 | f1 = 0.6996587030716723\n"
     ]
    },
    {
     "data": {
      "image/png": "[encoded data removed]",
      "text/plain": [
       "<Figure size 432x432 with 2 Axes>"
      ]
     },
     "metadata": {},
     "output_type": "display_data"
    }
   ],
   "source": [
    "knnc = KNeighborsClassifier(n_neighbors=3, algorithm='auto')\n",
    "knnc = knnc.fit(X_train, y_train)\n",
    "\n",
    "predictions = knnc.predict(X_test)\n",
    "print_prediction_assessment(predictions, y_test)"
   ]
  }
 ],
 "metadata": {
  "kernelspec": {
   "display_name": "Python 3",
   "language": "python",
   "name": "python3"
  },
  "language_info": {
   "codemirror_mode": {
    "name": "ipython",
    "version": 3
   },
   "file_extension": ".py",
   "mimetype": "text/x-python",
   "name": "python",
   "nbconvert_exporter": "python",
   "pygments_lexer": "ipython3",
   "version": "3.6.5"
  }
 },
 "nbformat": 4,
 "nbformat_minor": 2
}
